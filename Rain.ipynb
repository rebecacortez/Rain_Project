{
 "cells": [
  {
   "cell_type": "code",
   "execution_count": 1,
   "source": [
    "import pandas as pd\n",
    "import matplotlib.pyplot as plt\n",
    "import seaborn as sns\n",
    "import numpy as np"
   ],
   "outputs": [],
   "metadata": {}
  },
  {
   "cell_type": "code",
   "execution_count": 2,
   "source": [
    "rain = pd.read_csv('data/rain_data_aus.csv')"
   ],
   "outputs": [],
   "metadata": {}
  },
  {
   "cell_type": "markdown",
   "source": [
    "# Data cleaning"
   ],
   "metadata": {}
  },
  {
   "cell_type": "code",
   "execution_count": 3,
   "source": [
    "rain.head()"
   ],
   "outputs": [
    {
     "output_type": "execute_result",
     "data": {
      "text/html": [
       "<div>\n",
       "<style scoped>\n",
       "    .dataframe tbody tr th:only-of-type {\n",
       "        vertical-align: middle;\n",
       "    }\n",
       "\n",
       "    .dataframe tbody tr th {\n",
       "        vertical-align: top;\n",
       "    }\n",
       "\n",
       "    .dataframe thead th {\n",
       "        text-align: right;\n",
       "    }\n",
       "</style>\n",
       "<table border=\"1\" class=\"dataframe\">\n",
       "  <thead>\n",
       "    <tr style=\"text-align: right;\">\n",
       "      <th></th>\n",
       "      <th>date</th>\n",
       "      <th>location</th>\n",
       "      <th>mintemp</th>\n",
       "      <th>maxtemp</th>\n",
       "      <th>rainfall</th>\n",
       "      <th>evaporation</th>\n",
       "      <th>sunshine</th>\n",
       "      <th>humidity9am</th>\n",
       "      <th>humidity3pm</th>\n",
       "      <th>pressure9am</th>\n",
       "      <th>...</th>\n",
       "      <th>temp9am</th>\n",
       "      <th>temp3pm</th>\n",
       "      <th>raintoday</th>\n",
       "      <th>amountOfRain</th>\n",
       "      <th>raintomorrow</th>\n",
       "      <th>temp</th>\n",
       "      <th>humidity</th>\n",
       "      <th>precipitation3pm</th>\n",
       "      <th>precipitation9am</th>\n",
       "      <th>modelo_vigente</th>\n",
       "    </tr>\n",
       "  </thead>\n",
       "  <tbody>\n",
       "    <tr>\n",
       "      <th>0</th>\n",
       "      <td>2008-12-01</td>\n",
       "      <td>Albury</td>\n",
       "      <td>13.4</td>\n",
       "      <td>22.9</td>\n",
       "      <td>0.6</td>\n",
       "      <td>NaN</td>\n",
       "      <td>NaN</td>\n",
       "      <td>71.0</td>\n",
       "      <td>22.0</td>\n",
       "      <td>1007.7</td>\n",
       "      <td>...</td>\n",
       "      <td>16.9</td>\n",
       "      <td>21.8</td>\n",
       "      <td>No</td>\n",
       "      <td>0.0</td>\n",
       "      <td>No</td>\n",
       "      <td>29.48</td>\n",
       "      <td>28.400000</td>\n",
       "      <td>12</td>\n",
       "      <td>5.115360</td>\n",
       "      <td>0.089825</td>\n",
       "    </tr>\n",
       "    <tr>\n",
       "      <th>1</th>\n",
       "      <td>2008-12-02</td>\n",
       "      <td>Albury</td>\n",
       "      <td>7.4</td>\n",
       "      <td>25.1</td>\n",
       "      <td>0.0</td>\n",
       "      <td>NaN</td>\n",
       "      <td>NaN</td>\n",
       "      <td>44.0</td>\n",
       "      <td>25.0</td>\n",
       "      <td>1010.6</td>\n",
       "      <td>...</td>\n",
       "      <td>17.2</td>\n",
       "      <td>24.3</td>\n",
       "      <td>No</td>\n",
       "      <td>0.0</td>\n",
       "      <td>No</td>\n",
       "      <td>32.12</td>\n",
       "      <td>2.208569</td>\n",
       "      <td>10</td>\n",
       "      <td>21.497100</td>\n",
       "      <td>0.023477</td>\n",
       "    </tr>\n",
       "    <tr>\n",
       "      <th>2</th>\n",
       "      <td>2008-12-03</td>\n",
       "      <td>Albury</td>\n",
       "      <td>12.9</td>\n",
       "      <td>25.7</td>\n",
       "      <td>0.0</td>\n",
       "      <td>NaN</td>\n",
       "      <td>NaN</td>\n",
       "      <td>38.0</td>\n",
       "      <td>30.0</td>\n",
       "      <td>1007.6</td>\n",
       "      <td>...</td>\n",
       "      <td>21.0</td>\n",
       "      <td>23.2</td>\n",
       "      <td>No</td>\n",
       "      <td>0.0</td>\n",
       "      <td>No</td>\n",
       "      <td>32.84</td>\n",
       "      <td>38.000000</td>\n",
       "      <td>17</td>\n",
       "      <td>20.782859</td>\n",
       "      <td>0.027580</td>\n",
       "    </tr>\n",
       "    <tr>\n",
       "      <th>3</th>\n",
       "      <td>2008-12-04</td>\n",
       "      <td>Albury</td>\n",
       "      <td>9.2</td>\n",
       "      <td>28.0</td>\n",
       "      <td>0.0</td>\n",
       "      <td>NaN</td>\n",
       "      <td>NaN</td>\n",
       "      <td>45.0</td>\n",
       "      <td>16.0</td>\n",
       "      <td>1017.6</td>\n",
       "      <td>...</td>\n",
       "      <td>18.1</td>\n",
       "      <td>26.5</td>\n",
       "      <td>No</td>\n",
       "      <td>1.0</td>\n",
       "      <td>No</td>\n",
       "      <td>35.60</td>\n",
       "      <td>21.200000</td>\n",
       "      <td>8</td>\n",
       "      <td>12.028646</td>\n",
       "      <td>0.023962</td>\n",
       "    </tr>\n",
       "    <tr>\n",
       "      <th>4</th>\n",
       "      <td>2008-12-05</td>\n",
       "      <td>Albury</td>\n",
       "      <td>17.5</td>\n",
       "      <td>32.3</td>\n",
       "      <td>1.0</td>\n",
       "      <td>NaN</td>\n",
       "      <td>NaN</td>\n",
       "      <td>82.0</td>\n",
       "      <td>33.0</td>\n",
       "      <td>1010.8</td>\n",
       "      <td>...</td>\n",
       "      <td>17.8</td>\n",
       "      <td>29.7</td>\n",
       "      <td>No</td>\n",
       "      <td>0.2</td>\n",
       "      <td>No</td>\n",
       "      <td>40.76</td>\n",
       "      <td>41.600000</td>\n",
       "      <td>9</td>\n",
       "      <td>11.883546</td>\n",
       "      <td>0.220164</td>\n",
       "    </tr>\n",
       "  </tbody>\n",
       "</table>\n",
       "<p>5 rows × 23 columns</p>\n",
       "</div>"
      ],
      "text/plain": [
       "         date location  mintemp  maxtemp  rainfall  evaporation  sunshine  \\\n",
       "0  2008-12-01   Albury     13.4     22.9       0.6          NaN       NaN   \n",
       "1  2008-12-02   Albury      7.4     25.1       0.0          NaN       NaN   \n",
       "2  2008-12-03   Albury     12.9     25.7       0.0          NaN       NaN   \n",
       "3  2008-12-04   Albury      9.2     28.0       0.0          NaN       NaN   \n",
       "4  2008-12-05   Albury     17.5     32.3       1.0          NaN       NaN   \n",
       "\n",
       "   humidity9am  humidity3pm  pressure9am  ...  temp9am  temp3pm  raintoday  \\\n",
       "0         71.0         22.0       1007.7  ...     16.9     21.8         No   \n",
       "1         44.0         25.0       1010.6  ...     17.2     24.3         No   \n",
       "2         38.0         30.0       1007.6  ...     21.0     23.2         No   \n",
       "3         45.0         16.0       1017.6  ...     18.1     26.5         No   \n",
       "4         82.0         33.0       1010.8  ...     17.8     29.7         No   \n",
       "\n",
       "   amountOfRain  raintomorrow   temp   humidity precipitation3pm  \\\n",
       "0           0.0            No  29.48  28.400000               12   \n",
       "1           0.0            No  32.12   2.208569               10   \n",
       "2           0.0            No  32.84  38.000000               17   \n",
       "3           1.0            No  35.60  21.200000                8   \n",
       "4           0.2            No  40.76  41.600000                9   \n",
       "\n",
       "   precipitation9am  modelo_vigente  \n",
       "0          5.115360        0.089825  \n",
       "1         21.497100        0.023477  \n",
       "2         20.782859        0.027580  \n",
       "3         12.028646        0.023962  \n",
       "4         11.883546        0.220164  \n",
       "\n",
       "[5 rows x 23 columns]"
      ]
     },
     "metadata": {},
     "execution_count": 3
    }
   ],
   "metadata": {}
  },
  {
   "cell_type": "code",
   "execution_count": 4,
   "source": [
    "rain.isna().sum()"
   ],
   "outputs": [
    {
     "output_type": "execute_result",
     "data": {
      "text/plain": [
       "date                    0\n",
       "location                0\n",
       "mintemp               637\n",
       "maxtemp               322\n",
       "rainfall             1406\n",
       "evaporation         60843\n",
       "sunshine            67816\n",
       "humidity9am          1774\n",
       "humidity3pm          3610\n",
       "pressure9am         14014\n",
       "pressure3pm         13981\n",
       "cloud9am            53657\n",
       "cloud3pm            57094\n",
       "temp9am               904\n",
       "temp3pm              2726\n",
       "raintoday            1406\n",
       "amountOfRain            0\n",
       "raintomorrow            0\n",
       "temp                  322\n",
       "humidity             3610\n",
       "precipitation3pm        0\n",
       "precipitation9am        0\n",
       "modelo_vigente          0\n",
       "dtype: int64"
      ]
     },
     "metadata": {},
     "execution_count": 4
    }
   ],
   "metadata": {}
  },
  {
   "cell_type": "code",
   "execution_count": 5,
   "source": [
    "rain = rain.dropna()\n",
    "rain"
   ],
   "outputs": [
    {
     "output_type": "execute_result",
     "data": {
      "text/html": [
       "<div>\n",
       "<style scoped>\n",
       "    .dataframe tbody tr th:only-of-type {\n",
       "        vertical-align: middle;\n",
       "    }\n",
       "\n",
       "    .dataframe tbody tr th {\n",
       "        vertical-align: top;\n",
       "    }\n",
       "\n",
       "    .dataframe thead th {\n",
       "        text-align: right;\n",
       "    }\n",
       "</style>\n",
       "<table border=\"1\" class=\"dataframe\">\n",
       "  <thead>\n",
       "    <tr style=\"text-align: right;\">\n",
       "      <th></th>\n",
       "      <th>date</th>\n",
       "      <th>location</th>\n",
       "      <th>mintemp</th>\n",
       "      <th>maxtemp</th>\n",
       "      <th>rainfall</th>\n",
       "      <th>evaporation</th>\n",
       "      <th>sunshine</th>\n",
       "      <th>humidity9am</th>\n",
       "      <th>humidity3pm</th>\n",
       "      <th>pressure9am</th>\n",
       "      <th>...</th>\n",
       "      <th>temp9am</th>\n",
       "      <th>temp3pm</th>\n",
       "      <th>raintoday</th>\n",
       "      <th>amountOfRain</th>\n",
       "      <th>raintomorrow</th>\n",
       "      <th>temp</th>\n",
       "      <th>humidity</th>\n",
       "      <th>precipitation3pm</th>\n",
       "      <th>precipitation9am</th>\n",
       "      <th>modelo_vigente</th>\n",
       "    </tr>\n",
       "  </thead>\n",
       "  <tbody>\n",
       "    <tr>\n",
       "      <th>5939</th>\n",
       "      <td>2009-01-01</td>\n",
       "      <td>Cobar</td>\n",
       "      <td>17.9</td>\n",
       "      <td>35.2</td>\n",
       "      <td>0.0</td>\n",
       "      <td>12.0</td>\n",
       "      <td>12.3</td>\n",
       "      <td>20.0</td>\n",
       "      <td>13.0</td>\n",
       "      <td>1006.3</td>\n",
       "      <td>...</td>\n",
       "      <td>26.6</td>\n",
       "      <td>33.4</td>\n",
       "      <td>No</td>\n",
       "      <td>0.0</td>\n",
       "      <td>No</td>\n",
       "      <td>44.24</td>\n",
       "      <td>17.6</td>\n",
       "      <td>5</td>\n",
       "      <td>15.165784</td>\n",
       "      <td>0.011320</td>\n",
       "    </tr>\n",
       "    <tr>\n",
       "      <th>5940</th>\n",
       "      <td>2009-01-02</td>\n",
       "      <td>Cobar</td>\n",
       "      <td>18.4</td>\n",
       "      <td>28.9</td>\n",
       "      <td>0.0</td>\n",
       "      <td>14.8</td>\n",
       "      <td>13.0</td>\n",
       "      <td>30.0</td>\n",
       "      <td>8.0</td>\n",
       "      <td>1012.9</td>\n",
       "      <td>...</td>\n",
       "      <td>20.3</td>\n",
       "      <td>27.0</td>\n",
       "      <td>No</td>\n",
       "      <td>0.0</td>\n",
       "      <td>No</td>\n",
       "      <td>36.68</td>\n",
       "      <td>11.6</td>\n",
       "      <td>9</td>\n",
       "      <td>9.750834</td>\n",
       "      <td>0.001683</td>\n",
       "    </tr>\n",
       "    <tr>\n",
       "      <th>5942</th>\n",
       "      <td>2009-01-04</td>\n",
       "      <td>Cobar</td>\n",
       "      <td>19.4</td>\n",
       "      <td>37.6</td>\n",
       "      <td>0.0</td>\n",
       "      <td>10.8</td>\n",
       "      <td>10.6</td>\n",
       "      <td>42.0</td>\n",
       "      <td>22.0</td>\n",
       "      <td>1012.3</td>\n",
       "      <td>...</td>\n",
       "      <td>28.7</td>\n",
       "      <td>34.9</td>\n",
       "      <td>No</td>\n",
       "      <td>0.0</td>\n",
       "      <td>No</td>\n",
       "      <td>47.12</td>\n",
       "      <td>28.4</td>\n",
       "      <td>11</td>\n",
       "      <td>5.557986</td>\n",
       "      <td>0.061026</td>\n",
       "    </tr>\n",
       "    <tr>\n",
       "      <th>5943</th>\n",
       "      <td>2009-01-05</td>\n",
       "      <td>Cobar</td>\n",
       "      <td>21.9</td>\n",
       "      <td>38.4</td>\n",
       "      <td>0.0</td>\n",
       "      <td>11.4</td>\n",
       "      <td>12.2</td>\n",
       "      <td>37.0</td>\n",
       "      <td>22.0</td>\n",
       "      <td>1012.7</td>\n",
       "      <td>...</td>\n",
       "      <td>29.1</td>\n",
       "      <td>35.6</td>\n",
       "      <td>No</td>\n",
       "      <td>0.0</td>\n",
       "      <td>No</td>\n",
       "      <td>48.08</td>\n",
       "      <td>28.4</td>\n",
       "      <td>10</td>\n",
       "      <td>17.820001</td>\n",
       "      <td>0.010724</td>\n",
       "    </tr>\n",
       "    <tr>\n",
       "      <th>5944</th>\n",
       "      <td>2009-01-06</td>\n",
       "      <td>Cobar</td>\n",
       "      <td>24.2</td>\n",
       "      <td>41.0</td>\n",
       "      <td>0.0</td>\n",
       "      <td>11.2</td>\n",
       "      <td>8.4</td>\n",
       "      <td>19.0</td>\n",
       "      <td>15.0</td>\n",
       "      <td>1010.7</td>\n",
       "      <td>...</td>\n",
       "      <td>33.6</td>\n",
       "      <td>37.6</td>\n",
       "      <td>No</td>\n",
       "      <td>0.0</td>\n",
       "      <td>No</td>\n",
       "      <td>51.20</td>\n",
       "      <td>20.0</td>\n",
       "      <td>9</td>\n",
       "      <td>13.217116</td>\n",
       "      <td>0.103292</td>\n",
       "    </tr>\n",
       "    <tr>\n",
       "      <th>...</th>\n",
       "      <td>...</td>\n",
       "      <td>...</td>\n",
       "      <td>...</td>\n",
       "      <td>...</td>\n",
       "      <td>...</td>\n",
       "      <td>...</td>\n",
       "      <td>...</td>\n",
       "      <td>...</td>\n",
       "      <td>...</td>\n",
       "      <td>...</td>\n",
       "      <td>...</td>\n",
       "      <td>...</td>\n",
       "      <td>...</td>\n",
       "      <td>...</td>\n",
       "      <td>...</td>\n",
       "      <td>...</td>\n",
       "      <td>...</td>\n",
       "      <td>...</td>\n",
       "      <td>...</td>\n",
       "      <td>...</td>\n",
       "      <td>...</td>\n",
       "    </tr>\n",
       "    <tr>\n",
       "      <th>139108</th>\n",
       "      <td>2017-06-20</td>\n",
       "      <td>Darwin</td>\n",
       "      <td>19.3</td>\n",
       "      <td>33.4</td>\n",
       "      <td>0.0</td>\n",
       "      <td>6.0</td>\n",
       "      <td>11.0</td>\n",
       "      <td>63.0</td>\n",
       "      <td>32.0</td>\n",
       "      <td>1013.9</td>\n",
       "      <td>...</td>\n",
       "      <td>24.5</td>\n",
       "      <td>32.3</td>\n",
       "      <td>No</td>\n",
       "      <td>0.0</td>\n",
       "      <td>No</td>\n",
       "      <td>42.08</td>\n",
       "      <td>40.4</td>\n",
       "      <td>7</td>\n",
       "      <td>15.000004</td>\n",
       "      <td>0.008671</td>\n",
       "    </tr>\n",
       "    <tr>\n",
       "      <th>139109</th>\n",
       "      <td>2017-06-21</td>\n",
       "      <td>Darwin</td>\n",
       "      <td>21.2</td>\n",
       "      <td>32.6</td>\n",
       "      <td>0.0</td>\n",
       "      <td>7.6</td>\n",
       "      <td>8.6</td>\n",
       "      <td>56.0</td>\n",
       "      <td>28.0</td>\n",
       "      <td>1014.6</td>\n",
       "      <td>...</td>\n",
       "      <td>24.8</td>\n",
       "      <td>32.0</td>\n",
       "      <td>No</td>\n",
       "      <td>0.0</td>\n",
       "      <td>No</td>\n",
       "      <td>41.12</td>\n",
       "      <td>35.6</td>\n",
       "      <td>12</td>\n",
       "      <td>3.721395</td>\n",
       "      <td>0.052358</td>\n",
       "    </tr>\n",
       "    <tr>\n",
       "      <th>139110</th>\n",
       "      <td>2017-06-22</td>\n",
       "      <td>Darwin</td>\n",
       "      <td>20.7</td>\n",
       "      <td>32.8</td>\n",
       "      <td>0.0</td>\n",
       "      <td>5.6</td>\n",
       "      <td>11.0</td>\n",
       "      <td>46.0</td>\n",
       "      <td>23.0</td>\n",
       "      <td>1015.3</td>\n",
       "      <td>...</td>\n",
       "      <td>24.8</td>\n",
       "      <td>32.1</td>\n",
       "      <td>No</td>\n",
       "      <td>0.0</td>\n",
       "      <td>No</td>\n",
       "      <td>41.36</td>\n",
       "      <td>29.6</td>\n",
       "      <td>10</td>\n",
       "      <td>18.462662</td>\n",
       "      <td>0.005346</td>\n",
       "    </tr>\n",
       "    <tr>\n",
       "      <th>139111</th>\n",
       "      <td>2017-06-23</td>\n",
       "      <td>Darwin</td>\n",
       "      <td>19.5</td>\n",
       "      <td>31.8</td>\n",
       "      <td>0.0</td>\n",
       "      <td>6.2</td>\n",
       "      <td>10.6</td>\n",
       "      <td>62.0</td>\n",
       "      <td>58.0</td>\n",
       "      <td>1014.9</td>\n",
       "      <td>...</td>\n",
       "      <td>24.8</td>\n",
       "      <td>29.2</td>\n",
       "      <td>No</td>\n",
       "      <td>0.0</td>\n",
       "      <td>No</td>\n",
       "      <td>40.16</td>\n",
       "      <td>71.6</td>\n",
       "      <td>6</td>\n",
       "      <td>16.343690</td>\n",
       "      <td>0.025044</td>\n",
       "    </tr>\n",
       "    <tr>\n",
       "      <th>139112</th>\n",
       "      <td>2017-06-24</td>\n",
       "      <td>Darwin</td>\n",
       "      <td>20.2</td>\n",
       "      <td>31.7</td>\n",
       "      <td>0.0</td>\n",
       "      <td>5.6</td>\n",
       "      <td>10.7</td>\n",
       "      <td>73.0</td>\n",
       "      <td>32.0</td>\n",
       "      <td>1013.9</td>\n",
       "      <td>...</td>\n",
       "      <td>25.4</td>\n",
       "      <td>31.0</td>\n",
       "      <td>No</td>\n",
       "      <td>0.0</td>\n",
       "      <td>No</td>\n",
       "      <td>40.04</td>\n",
       "      <td>40.4</td>\n",
       "      <td>12</td>\n",
       "      <td>9.187054</td>\n",
       "      <td>0.043525</td>\n",
       "    </tr>\n",
       "  </tbody>\n",
       "</table>\n",
       "<p>61918 rows × 23 columns</p>\n",
       "</div>"
      ],
      "text/plain": [
       "              date location  mintemp  maxtemp  rainfall  evaporation  \\\n",
       "5939    2009-01-01    Cobar     17.9     35.2       0.0         12.0   \n",
       "5940    2009-01-02    Cobar     18.4     28.9       0.0         14.8   \n",
       "5942    2009-01-04    Cobar     19.4     37.6       0.0         10.8   \n",
       "5943    2009-01-05    Cobar     21.9     38.4       0.0         11.4   \n",
       "5944    2009-01-06    Cobar     24.2     41.0       0.0         11.2   \n",
       "...            ...      ...      ...      ...       ...          ...   \n",
       "139108  2017-06-20   Darwin     19.3     33.4       0.0          6.0   \n",
       "139109  2017-06-21   Darwin     21.2     32.6       0.0          7.6   \n",
       "139110  2017-06-22   Darwin     20.7     32.8       0.0          5.6   \n",
       "139111  2017-06-23   Darwin     19.5     31.8       0.0          6.2   \n",
       "139112  2017-06-24   Darwin     20.2     31.7       0.0          5.6   \n",
       "\n",
       "        sunshine  humidity9am  humidity3pm  pressure9am  ...  temp9am  \\\n",
       "5939        12.3         20.0         13.0       1006.3  ...     26.6   \n",
       "5940        13.0         30.0          8.0       1012.9  ...     20.3   \n",
       "5942        10.6         42.0         22.0       1012.3  ...     28.7   \n",
       "5943        12.2         37.0         22.0       1012.7  ...     29.1   \n",
       "5944         8.4         19.0         15.0       1010.7  ...     33.6   \n",
       "...          ...          ...          ...          ...  ...      ...   \n",
       "139108      11.0         63.0         32.0       1013.9  ...     24.5   \n",
       "139109       8.6         56.0         28.0       1014.6  ...     24.8   \n",
       "139110      11.0         46.0         23.0       1015.3  ...     24.8   \n",
       "139111      10.6         62.0         58.0       1014.9  ...     24.8   \n",
       "139112      10.7         73.0         32.0       1013.9  ...     25.4   \n",
       "\n",
       "        temp3pm  raintoday  amountOfRain  raintomorrow   temp  humidity  \\\n",
       "5939       33.4         No           0.0            No  44.24      17.6   \n",
       "5940       27.0         No           0.0            No  36.68      11.6   \n",
       "5942       34.9         No           0.0            No  47.12      28.4   \n",
       "5943       35.6         No           0.0            No  48.08      28.4   \n",
       "5944       37.6         No           0.0            No  51.20      20.0   \n",
       "...         ...        ...           ...           ...    ...       ...   \n",
       "139108     32.3         No           0.0            No  42.08      40.4   \n",
       "139109     32.0         No           0.0            No  41.12      35.6   \n",
       "139110     32.1         No           0.0            No  41.36      29.6   \n",
       "139111     29.2         No           0.0            No  40.16      71.6   \n",
       "139112     31.0         No           0.0            No  40.04      40.4   \n",
       "\n",
       "       precipitation3pm  precipitation9am  modelo_vigente  \n",
       "5939                  5         15.165784        0.011320  \n",
       "5940                  9          9.750834        0.001683  \n",
       "5942                 11          5.557986        0.061026  \n",
       "5943                 10         17.820001        0.010724  \n",
       "5944                  9         13.217116        0.103292  \n",
       "...                 ...               ...             ...  \n",
       "139108                7         15.000004        0.008671  \n",
       "139109               12          3.721395        0.052358  \n",
       "139110               10         18.462662        0.005346  \n",
       "139111                6         16.343690        0.025044  \n",
       "139112               12          9.187054        0.043525  \n",
       "\n",
       "[61918 rows x 23 columns]"
      ]
     },
     "metadata": {},
     "execution_count": 5
    }
   ],
   "metadata": {}
  },
  {
   "cell_type": "code",
   "execution_count": 6,
   "source": [
    "rain['raintomorrow']=rain['raintomorrow'].map({'No':'0','Yes':'1'})\n",
    "rain['raintomorrow']=rain['raintomorrow'].astype(int)\n",
    "\n",
    "rain['raintoday']=rain['raintoday'].map({'No':'0','Yes':'1'})\n",
    "rain['raintoday']=rain['raintoday'].astype(int)"
   ],
   "outputs": [],
   "metadata": {}
  },
  {
   "cell_type": "code",
   "execution_count": 7,
   "source": [
    "rain[['raintomorrow','raintoday']].head()"
   ],
   "outputs": [
    {
     "output_type": "execute_result",
     "data": {
      "text/html": [
       "<div>\n",
       "<style scoped>\n",
       "    .dataframe tbody tr th:only-of-type {\n",
       "        vertical-align: middle;\n",
       "    }\n",
       "\n",
       "    .dataframe tbody tr th {\n",
       "        vertical-align: top;\n",
       "    }\n",
       "\n",
       "    .dataframe thead th {\n",
       "        text-align: right;\n",
       "    }\n",
       "</style>\n",
       "<table border=\"1\" class=\"dataframe\">\n",
       "  <thead>\n",
       "    <tr style=\"text-align: right;\">\n",
       "      <th></th>\n",
       "      <th>raintomorrow</th>\n",
       "      <th>raintoday</th>\n",
       "    </tr>\n",
       "  </thead>\n",
       "  <tbody>\n",
       "    <tr>\n",
       "      <th>5939</th>\n",
       "      <td>0</td>\n",
       "      <td>0</td>\n",
       "    </tr>\n",
       "    <tr>\n",
       "      <th>5940</th>\n",
       "      <td>0</td>\n",
       "      <td>0</td>\n",
       "    </tr>\n",
       "    <tr>\n",
       "      <th>5942</th>\n",
       "      <td>0</td>\n",
       "      <td>0</td>\n",
       "    </tr>\n",
       "    <tr>\n",
       "      <th>5943</th>\n",
       "      <td>0</td>\n",
       "      <td>0</td>\n",
       "    </tr>\n",
       "    <tr>\n",
       "      <th>5944</th>\n",
       "      <td>0</td>\n",
       "      <td>0</td>\n",
       "    </tr>\n",
       "  </tbody>\n",
       "</table>\n",
       "</div>"
      ],
      "text/plain": [
       "      raintomorrow  raintoday\n",
       "5939             0          0\n",
       "5940             0          0\n",
       "5942             0          0\n",
       "5943             0          0\n",
       "5944             0          0"
      ]
     },
     "metadata": {},
     "execution_count": 7
    }
   ],
   "metadata": {}
  },
  {
   "cell_type": "markdown",
   "source": [
    "# Exploratory data analysis"
   ],
   "metadata": {}
  },
  {
   "cell_type": "code",
   "execution_count": 8,
   "source": [
    "rain.corr()['raintomorrow']"
   ],
   "outputs": [
    {
     "output_type": "execute_result",
     "data": {
      "text/plain": [
       "mintemp             0.088964\n",
       "maxtemp            -0.144498\n",
       "rainfall            0.253773\n",
       "evaporation        -0.127257\n",
       "sunshine           -0.449261\n",
       "humidity9am         0.265360\n",
       "humidity3pm         0.447742\n",
       "pressure9am        -0.255934\n",
       "pressure3pm        -0.231428\n",
       "cloud9am            0.319410\n",
       "cloud3pm            0.389891\n",
       "temp9am            -0.016180\n",
       "temp3pm            -0.181295\n",
       "raintoday           0.308621\n",
       "amountOfRain        0.492611\n",
       "raintomorrow        1.000000\n",
       "temp               -0.112636\n",
       "humidity            0.406002\n",
       "precipitation3pm    0.006578\n",
       "precipitation9am   -0.013366\n",
       "modelo_vigente      0.863107\n",
       "Name: raintomorrow, dtype: float64"
      ]
     },
     "metadata": {},
     "execution_count": 8
    }
   ],
   "metadata": {}
  },
  {
   "cell_type": "code",
   "execution_count": 9,
   "source": [
    "# amountOfRain -> maior correlação"
   ],
   "outputs": [],
   "metadata": {}
  },
  {
   "cell_type": "markdown",
   "source": [
    "# Predictions"
   ],
   "metadata": {}
  },
  {
   "cell_type": "code",
   "execution_count": 10,
   "source": [
    "from sklearn.model_selection import train_test_split\n",
    "from sklearn.tree import DecisionTreeClassifier"
   ],
   "outputs": [],
   "metadata": {}
  },
  {
   "cell_type": "code",
   "execution_count": 11,
   "source": [
    "#Tentativa 1\n",
    "#X=rain[['amountOfRain']]\n",
    "#y=rain['raintomorrow']"
   ],
   "outputs": [],
   "metadata": {}
  },
  {
   "cell_type": "code",
   "execution_count": 12,
   "source": [
    "#Tentativa  2\n",
    "#X=rain[['sunshine']]\n",
    "#y=rain['raintomorrow']"
   ],
   "outputs": [],
   "metadata": {}
  },
  {
   "cell_type": "code",
   "execution_count": 13,
   "source": [
    "rain.columns"
   ],
   "outputs": [
    {
     "output_type": "execute_result",
     "data": {
      "text/plain": [
       "Index(['date', 'location', 'mintemp', 'maxtemp', 'rainfall', 'evaporation',\n",
       "       'sunshine', 'humidity9am', 'humidity3pm', 'pressure9am', 'pressure3pm',\n",
       "       'cloud9am', 'cloud3pm', 'temp9am', 'temp3pm', 'raintoday',\n",
       "       'amountOfRain', 'raintomorrow', 'temp', 'humidity', 'precipitation3pm',\n",
       "       'precipitation9am', 'modelo_vigente'],\n",
       "      dtype='object')"
      ]
     },
     "metadata": {},
     "execution_count": 13
    }
   ],
   "metadata": {}
  },
  {
   "cell_type": "code",
   "execution_count": 14,
   "source": [
    "#Tentativa  3\n",
    "X=rain[[ 'mintemp', 'maxtemp', 'rainfall','evaporation','sunshine',\n",
    "        'humidity9am', 'humidity3pm','pressure9am', 'pressure3pm',\n",
    "        'cloud9am', 'cloud3pm', 'temp9am','temp3pm', 'raintoday',\n",
    "        'temp','humidity', 'precipitation3pm','precipitation9am']]\n",
    "y=rain['raintomorrow']"
   ],
   "outputs": [],
   "metadata": {}
  },
  {
   "cell_type": "code",
   "execution_count": 15,
   "source": [
    "X_train, X_test, y_train, y_test = train_test_split(X, y, test_size=0.2)"
   ],
   "outputs": [],
   "metadata": {}
  },
  {
   "cell_type": "code",
   "execution_count": 16,
   "source": [
    "tree = DecisionTreeClassifier(max_depth=9)\n",
    "tree"
   ],
   "outputs": [
    {
     "output_type": "execute_result",
     "data": {
      "text/plain": [
       "DecisionTreeClassifier(max_depth=9)"
      ]
     },
     "metadata": {},
     "execution_count": 16
    }
   ],
   "metadata": {}
  },
  {
   "cell_type": "code",
   "execution_count": 17,
   "source": [
    "tree.fit(X_train,y_train)"
   ],
   "outputs": [
    {
     "output_type": "execute_result",
     "data": {
      "text/plain": [
       "DecisionTreeClassifier(max_depth=9)"
      ]
     },
     "metadata": {},
     "execution_count": 17
    }
   ],
   "metadata": {}
  },
  {
   "cell_type": "code",
   "execution_count": 18,
   "source": [
    "tree.score(X_test,y_test)"
   ],
   "outputs": [
    {
     "output_type": "execute_result",
     "data": {
      "text/plain": [
       "0.8377745478036176"
      ]
     },
     "metadata": {},
     "execution_count": 18
    }
   ],
   "metadata": {}
  },
  {
   "cell_type": "code",
   "execution_count": 19,
   "source": [
    "from sklearn.metrics import plot_confusion_matrix, confusion_matrix\n",
    "cmap1 = sns.diverging_palette(260,-10,s=50, l=75, n=5, as_cmap=True)\n",
    "sns.heatmap(confusion_matrix(y_test, tree.predict(X_test)),cmap=cmap1, annot=True, fmt='g')"
   ],
   "outputs": [
    {
     "output_type": "execute_result",
     "data": {
      "text/plain": [
       "<AxesSubplot:>"
      ]
     },
     "metadata": {},
     "execution_count": 19
    },
    {
     "output_type": "display_data",
     "data": {
      "image/png": "[encoded data removed]",
      "text/plain": [
       "<Figure size 432x288 with 2 Axes>"
      ]
     },
     "metadata": {
      "needs_background": "light"
     }
    }
   ],
   "metadata": {}
  },
  {
   "cell_type": "code",
   "execution_count": 20,
   "source": [
    "from sklearn.metrics import plot_confusion_matrix, confusion_matrix\n",
    "cmap1 = sns.diverging_palette(260,-10,s=50, l=75, n=5, as_cmap=True)\n",
    "sns.heatmap(confusion_matrix(y_train, tree.predict(X_train)),cmap=cmap1, annot=True, fmt='g')"
   ],
   "outputs": [
    {
     "output_type": "execute_result",
     "data": {
      "text/plain": [
       "<AxesSubplot:>"
      ]
     },
     "metadata": {},
     "execution_count": 20
    },
    {
     "output_type": "display_data",
     "data": {
      "image/png": "[encoded data removed]",
      "text/plain": [
       "<Figure size 432x288 with 2 Axes>"
      ]
     },
     "metadata": {
      "needs_background": "light"
     }
    }
   ],
   "metadata": {}
  },
  {
   "cell_type": "code",
   "execution_count": 21,
   "source": [
    "from sklearn.tree import plot_tree\n",
    "import matplotlib.pyplot as plt"
   ],
   "outputs": [],
   "metadata": {}
  },
  {
   "cell_type": "code",
   "execution_count": 22,
   "source": [
    "from sklearn.metrics import roc_auc_score\n",
    "from tqdm.auto import tqdm\n",
    "complexity = []\n",
    "error_test = []\n",
    "error_train = []\n",
    "for K in tqdm(range(1, 20)):\n",
    "    complexity.append(K)\n",
    "    knn = DecisionTreeClassifier(max_depth=K)\n",
    "    knn.fit(X_train, y_train)\n",
    "    error_train.append(1 - roc_auc_score(y_train, knn.predict(X_train)))\n",
    "    error_test.append(1 - roc_auc_score(y_test, knn.predict(X_test)))\n",
    "plt.plot(complexity, error_train, '-', label='Training Error')\n",
    "plt.plot(complexity, error_test, '-', label='Test Error')\n",
    "plt.hlines(min(error_test), 0, 20, colors='red', linestyles='dashed')\n",
    "plt.xlabel('Complexity')\n",
    "plt.ylabel('Error')\n",
    "plt.legend()\n",
    "error_test.index(min(error_test))+1"
   ],
   "outputs": [
    {
     "output_type": "stream",
     "name": "stderr",
     "text": [
      "100%|██████████| 19/19 [00:08<00:00,  2.33it/s]\n"
     ]
    },
    {
     "output_type": "execute_result",
     "data": {
      "text/plain": [
       "8"
      ]
     },
     "metadata": {},
     "execution_count": 22
    },
    {
     "output_type": "display_data",
     "data": {
      "image/png": "[encoded data removed]",
      "text/plain": [
       "<Figure size 432x288 with 1 Axes>"
      ]
     },
     "metadata": {
      "needs_background": "light"
     }
    }
   ],
   "metadata": {}
  },
  {
   "cell_type": "code",
   "execution_count": 23,
   "source": [
    "pd.DataFrame(tree.feature_importances_,X_train.columns)"
   ],
   "outputs": [
    {
     "output_type": "execute_result",
     "data": {
      "text/html": [
       "<div>\n",
       "<style scoped>\n",
       "    .dataframe tbody tr th:only-of-type {\n",
       "        vertical-align: middle;\n",
       "    }\n",
       "\n",
       "    .dataframe tbody tr th {\n",
       "        vertical-align: top;\n",
       "    }\n",
       "\n",
       "    .dataframe thead th {\n",
       "        text-align: right;\n",
       "    }\n",
       "</style>\n",
       "<table border=\"1\" class=\"dataframe\">\n",
       "  <thead>\n",
       "    <tr style=\"text-align: right;\">\n",
       "      <th></th>\n",
       "      <th>0</th>\n",
       "    </tr>\n",
       "  </thead>\n",
       "  <tbody>\n",
       "    <tr>\n",
       "      <th>mintemp</th>\n",
       "      <td>0.012916</td>\n",
       "    </tr>\n",
       "    <tr>\n",
       "      <th>maxtemp</th>\n",
       "      <td>0.007934</td>\n",
       "    </tr>\n",
       "    <tr>\n",
       "      <th>rainfall</th>\n",
       "      <td>0.039846</td>\n",
       "    </tr>\n",
       "    <tr>\n",
       "      <th>evaporation</th>\n",
       "      <td>0.011780</td>\n",
       "    </tr>\n",
       "    <tr>\n",
       "      <th>sunshine</th>\n",
       "      <td>0.164851</td>\n",
       "    </tr>\n",
       "    <tr>\n",
       "      <th>humidity9am</th>\n",
       "      <td>0.017537</td>\n",
       "    </tr>\n",
       "    <tr>\n",
       "      <th>humidity3pm</th>\n",
       "      <td>0.547708</td>\n",
       "    </tr>\n",
       "    <tr>\n",
       "      <th>pressure9am</th>\n",
       "      <td>0.016756</td>\n",
       "    </tr>\n",
       "    <tr>\n",
       "      <th>pressure3pm</th>\n",
       "      <td>0.122154</td>\n",
       "    </tr>\n",
       "    <tr>\n",
       "      <th>cloud9am</th>\n",
       "      <td>0.004454</td>\n",
       "    </tr>\n",
       "    <tr>\n",
       "      <th>cloud3pm</th>\n",
       "      <td>0.007954</td>\n",
       "    </tr>\n",
       "    <tr>\n",
       "      <th>temp9am</th>\n",
       "      <td>0.008291</td>\n",
       "    </tr>\n",
       "    <tr>\n",
       "      <th>temp3pm</th>\n",
       "      <td>0.009692</td>\n",
       "    </tr>\n",
       "    <tr>\n",
       "      <th>raintoday</th>\n",
       "      <td>0.000000</td>\n",
       "    </tr>\n",
       "    <tr>\n",
       "      <th>temp</th>\n",
       "      <td>0.006864</td>\n",
       "    </tr>\n",
       "    <tr>\n",
       "      <th>humidity</th>\n",
       "      <td>0.009124</td>\n",
       "    </tr>\n",
       "    <tr>\n",
       "      <th>precipitation3pm</th>\n",
       "      <td>0.004398</td>\n",
       "    </tr>\n",
       "    <tr>\n",
       "      <th>precipitation9am</th>\n",
       "      <td>0.007739</td>\n",
       "    </tr>\n",
       "  </tbody>\n",
       "</table>\n",
       "</div>"
      ],
      "text/plain": [
       "                         0\n",
       "mintemp           0.012916\n",
       "maxtemp           0.007934\n",
       "rainfall          0.039846\n",
       "evaporation       0.011780\n",
       "sunshine          0.164851\n",
       "humidity9am       0.017537\n",
       "humidity3pm       0.547708\n",
       "pressure9am       0.016756\n",
       "pressure3pm       0.122154\n",
       "cloud9am          0.004454\n",
       "cloud3pm          0.007954\n",
       "temp9am           0.008291\n",
       "temp3pm           0.009692\n",
       "raintoday         0.000000\n",
       "temp              0.006864\n",
       "humidity          0.009124\n",
       "precipitation3pm  0.004398\n",
       "precipitation9am  0.007739"
      ]
     },
     "metadata": {},
     "execution_count": 23
    }
   ],
   "metadata": {}
  },
  {
   "cell_type": "code",
   "execution_count": 24,
   "source": [
    "from lightgbm import LGBMClassifier, plot_importance"
   ],
   "outputs": [],
   "metadata": {}
  },
  {
   "cell_type": "code",
   "execution_count": 25,
   "source": [
    "lgb = LGBMClassifier(max_depth=3, n_estimators=20, colsample_bytree=0.33, n_jobs=1)\n",
    "lgb.fit(X_train,y_train)"
   ],
   "outputs": [
    {
     "output_type": "execute_result",
     "data": {
      "text/plain": [
       "LGBMClassifier(colsample_bytree=0.33, max_depth=3, n_estimators=20, n_jobs=1)"
      ]
     },
     "metadata": {},
     "execution_count": 25
    }
   ],
   "metadata": {}
  },
  {
   "cell_type": "code",
   "execution_count": 26,
   "source": [
    "plot_importance(lgb, importance_type='gain')"
   ],
   "outputs": [
    {
     "output_type": "execute_result",
     "data": {
      "text/plain": [
       "<AxesSubplot:title={'center':'Feature importance'}, xlabel='Feature importance', ylabel='Features'>"
      ]
     },
     "metadata": {},
     "execution_count": 26
    },
    {
     "output_type": "display_data",
     "data": {
      "image/png": "[encoded data removed]",
      "text/plain": [
       "<Figure size 432x288 with 1 Axes>"
      ]
     },
     "metadata": {
      "needs_background": "light"
     }
    }
   ],
   "metadata": {}
  },
  {
   "cell_type": "code",
   "execution_count": 27,
   "source": [
    "#Try  4\n",
    "X=rain[[ 'rainfall','sunshine', 'humidity3pm','pressure9am', 'pressure3pm', 'cloud3pm']]\n",
    "y=rain['raintomorrow']"
   ],
   "outputs": [],
   "metadata": {}
  },
  {
   "cell_type": "code",
   "execution_count": 28,
   "source": [
    "lgb=LGBMClassifier(max_depth=9, n_estimators=200, colsample_bytree=.5, n_jobs=-1)\n",
    "lgb.fit(X_train,y_train)\n",
    "plot_confusion_matrix(lgb, X_test, y_test, values_format='.0f')\n",
    "plt.grid(False)"
   ],
   "outputs": [
    {
     "output_type": "stream",
     "name": "stderr",
     "text": [
      "/Library/Frameworks/Python.framework/Versions/3.9/lib/python3.9/site-packages/sklearn/utils/deprecation.py:87: FutureWarning: Function plot_confusion_matrix is deprecated; Function `plot_confusion_matrix` is deprecated in 1.0 and will be removed in 1.2. Use one of the class methods: ConfusionMatrixDisplay.from_predictions or ConfusionMatrixDisplay.from_estimator.\n",
      "  warnings.warn(msg, category=FutureWarning)\n"
     ]
    },
    {
     "output_type": "display_data",
     "data": {
      "image/png": "[encoded data removed]",
      "text/plain": [
       "<Figure size 432x288 with 2 Axes>"
      ]
     },
     "metadata": {
      "needs_background": "light"
     }
    }
   ],
   "metadata": {}
  },
  {
   "cell_type": "code",
   "execution_count": 29,
   "source": [
    "from sklearn.preprocessing import StandardScaler\n",
    "\n",
    "scaler=StandardScaler()\n",
    "scaler.fit(X_train)\n",
    "\n",
    "X_std_train=scaler.transform(X_train)\n",
    "X_std_test=scaler.transform(X_test)"
   ],
   "outputs": [],
   "metadata": {}
  },
  {
   "cell_type": "code",
   "execution_count": 30,
   "source": [
    "from mlxtend.feature_selection import SequentialFeatureSelector as SFS\n",
    "from mlxtend.plotting import plot_sequential_feature_selection as plot_sfs\n",
    "selector = SFS(tree, k_features=10, scoring='roc_auc')\n",
    "selector.fit(X_std_train, y_train)\n",
    "fig = plot_sfs(selector.get_metric_dict(), kind='std_err')\n",
    "plt.title('Forward Stepwise Selection')\n",
    "plt.grid()\n",
    "plt.show()"
   ],
   "outputs": [
    {
     "output_type": "display_data",
     "data": {
      "image/png": "[encoded data removed]",
      "text/plain": [
       "<Figure size 432x288 with 1 Axes>"
      ]
     },
     "metadata": {
      "needs_background": "light"
     }
    }
   ],
   "metadata": {}
  },
  {
   "cell_type": "code",
   "execution_count": 31,
   "source": [
    "selector.subsets_"
   ],
   "outputs": [
    {
     "output_type": "execute_result",
     "data": {
      "text/plain": [
       "{1: {'feature_idx': (4,),\n",
       "  'cv_scores': array([0.80588551, 0.80237108, 0.79622683, 0.79714257, 0.80494381]),\n",
       "  'avg_score': 0.8013139607956534,\n",
       "  'feature_names': ('4',)},\n",
       " 2: {'feature_idx': (4, 6),\n",
       "  'cv_scores': array([0.8321553 , 0.82117864, 0.82281145, 0.82138809, 0.82582876]),\n",
       "  'avg_score': 0.8246724495655695,\n",
       "  'feature_names': ('4', '6')},\n",
       " 3: {'feature_idx': (4, 6, 8),\n",
       "  'cv_scores': array([0.85533705, 0.84193293, 0.84359755, 0.8372129 , 0.84646019]),\n",
       "  'avg_score': 0.8449081244628406,\n",
       "  'feature_names': ('4', '6', '8')},\n",
       " 4: {'feature_idx': (2, 4, 6, 8),\n",
       "  'cv_scores': array([0.85994205, 0.84742155, 0.84826814, 0.84429862, 0.84501181]),\n",
       "  'avg_score': 0.8489884350973623,\n",
       "  'feature_names': ('2', '4', '6', '8')},\n",
       " 5: {'feature_idx': (2, 4, 6, 8, 14),\n",
       "  'cv_scores': array([0.86099322, 0.84551764, 0.84633966, 0.85076025, 0.84886969]),\n",
       "  'avg_score': 0.850496091278241,\n",
       "  'feature_names': ('2', '4', '6', '8', '14')},\n",
       " 6: {'feature_idx': (2, 4, 6, 8, 13, 14),\n",
       "  'cv_scores': array([0.86176664, 0.84421544, 0.84656017, 0.85023801, 0.84912609]),\n",
       "  'avg_score': 0.8503812712884915,\n",
       "  'feature_names': ('2', '4', '6', '8', '13', '14')},\n",
       " 7: {'feature_idx': (2, 4, 6, 8, 9, 13, 14),\n",
       "  'cv_scores': array([0.85641612, 0.84719526, 0.84664962, 0.85020692, 0.84865695]),\n",
       "  'avg_score': 0.8498249748821884,\n",
       "  'feature_names': ('2', '4', '6', '8', '9', '13', '14')},\n",
       " 8: {'feature_idx': (2, 4, 6, 8, 9, 13, 14, 15),\n",
       "  'cv_scores': array([0.85744184, 0.84634677, 0.84516651, 0.84932448, 0.84861573]),\n",
       "  'avg_score': 0.849379064075916,\n",
       "  'feature_names': ('2', '4', '6', '8', '9', '13', '14', '15')},\n",
       " 9: {'feature_idx': (2, 4, 6, 7, 8, 9, 13, 14, 15),\n",
       "  'cv_scores': array([0.8635098 , 0.84312299, 0.84491914, 0.84728048, 0.84864271]),\n",
       "  'avg_score': 0.8494950241425332,\n",
       "  'feature_names': ('2', '4', '6', '7', '8', '9', '13', '14', '15')},\n",
       " 10: {'feature_idx': (0, 2, 4, 6, 7, 8, 9, 13, 14, 15),\n",
       "  'cv_scores': array([0.86202736, 0.84333205, 0.84620998, 0.84841386, 0.84834861]),\n",
       "  'avg_score': 0.8496663721284546,\n",
       "  'feature_names': ('0', '2', '4', '6', '7', '8', '9', '13', '14', '15')}}"
      ]
     },
     "metadata": {},
     "execution_count": 31
    }
   ],
   "metadata": {}
  },
  {
   "cell_type": "code",
   "execution_count": 32,
   "source": [
    "X_train.var()"
   ],
   "outputs": [
    {
     "output_type": "execute_result",
     "data": {
      "text/plain": [
       "mintemp              40.556128\n",
       "maxtemp              47.451317\n",
       "rainfall             49.214840\n",
       "evaporation          13.384261\n",
       "sunshine             14.158291\n",
       "humidity9am         339.776790\n",
       "humidity3pm         407.968607\n",
       "pressure9am          48.579840\n",
       "pressure3pm          48.099802\n",
       "cloud9am              7.849022\n",
       "cloud3pm              7.029245\n",
       "temp9am              42.455648\n",
       "temp3pm              45.558706\n",
       "raintoday             0.173754\n",
       "temp                103.119826\n",
       "humidity            671.039099\n",
       "precipitation3pm     10.069210\n",
       "precipitation9am     25.080413\n",
       "dtype: float64"
      ]
     },
     "metadata": {},
     "execution_count": 32
    }
   ],
   "metadata": {}
  },
  {
   "cell_type": "code",
   "execution_count": 33,
   "source": [
    "from sklearn.feature_selection import VarianceThreshold, SelectKBest\n",
    "selector = VarianceThreshold(50)\n",
    "selector.fit(X_train)\n",
    "X_train.columns[selector.get_support()]"
   ],
   "outputs": [
    {
     "output_type": "execute_result",
     "data": {
      "text/plain": [
       "Index(['humidity9am', 'humidity3pm', 'temp', 'humidity'], dtype='object')"
      ]
     },
     "metadata": {},
     "execution_count": 33
    }
   ],
   "metadata": {}
  },
  {
   "cell_type": "code",
   "execution_count": 34,
   "source": [
    "lgb=LGBMClassifier(max_depth=9, n_estimators=200, colsample_bytree=.5, n_jobs=-1)\n",
    "lgb.fit(X_train[X_train.columns[selector.get_support()]],y_train)\n",
    "plot_confusion_matrix(lgb, X_test[X_test.columns[selector.get_support()]], y_test, values_format='.0f')\n",
    "plt.grid(False)"
   ],
   "outputs": [
    {
     "output_type": "stream",
     "name": "stderr",
     "text": [
      "/Library/Frameworks/Python.framework/Versions/3.9/lib/python3.9/site-packages/sklearn/utils/deprecation.py:87: FutureWarning: Function plot_confusion_matrix is deprecated; Function `plot_confusion_matrix` is deprecated in 1.0 and will be removed in 1.2. Use one of the class methods: ConfusionMatrixDisplay.from_predictions or ConfusionMatrixDisplay.from_estimator.\n",
      "  warnings.warn(msg, category=FutureWarning)\n"
     ]
    },
    {
     "output_type": "display_data",
     "data": {
      "image/png": "[encoded data removed]",
      "text/plain": [
       "<Figure size 432x288 with 2 Axes>"
      ]
     },
     "metadata": {
      "needs_background": "light"
     }
    }
   ],
   "metadata": {}
  },
  {
   "cell_type": "code",
   "execution_count": 35,
   "source": [
    "##################################"
   ],
   "outputs": [],
   "metadata": {}
  },
  {
   "cell_type": "code",
   "execution_count": null,
   "source": [],
   "outputs": [],
   "metadata": {}
  },
  {
   "cell_type": "code",
   "execution_count": 36,
   "source": [
    "list_names= ['date', 'location', 'wind_gustdir', 'wind_gustspeed', 'wind_dir9am',\n",
    "       'wind_dir3pm', 'wind_speed9am', 'wind_speed3pm']\n",
    "pd0=pd.read_csv('data/rain_data_aus.csv')\n",
    "pd1=pd.read_csv('data/wind_table_01.csv', names=list_names)\n",
    "pd2=pd.read_csv('data/wind_table_02.csv', names=list_names)\n",
    "pd3=pd.read_csv('data/wind_table_03.csv', names=list_names)\n",
    "pd4=pd.read_csv('data/wind_table_04.csv', names=list_names)\n",
    "pd5=pd.read_csv('data/wind_table_05.csv', names=list_names)\n",
    "pd6=pd.read_csv('data/wind_table_06.csv', names=list_names)\n",
    "pd7=pd.read_csv('data/wind_table_07.csv', names=list_names)\n",
    "pd8=pd.read_csv('data/wind_table_08.csv', names=list_names)"
   ],
   "outputs": [],
   "metadata": {}
  },
  {
   "cell_type": "code",
   "execution_count": 37,
   "source": [
    "pd0.shape"
   ],
   "outputs": [
    {
     "output_type": "execute_result",
     "data": {
      "text/plain": [
       "(142193, 23)"
      ]
     },
     "metadata": {},
     "execution_count": 37
    }
   ],
   "metadata": {}
  }
 ],
 "metadata": {
  "orig_nbformat": 4,
  "language_info": {
   "name": "python",
   "version": "3.9.6",
   "mimetype": "text/x-python",
   "codemirror_mode": {
    "name": "ipython",
    "version": 3
   },
   "pygments_lexer": "ipython3",
   "nbconvert_exporter": "python",
   "file_extension": ".py"
  },
  "kernelspec": {
   "name": "python3",
   "display_name": "Python 3.9.6 64-bit"
  },
  "interpreter": {
   "hash": "aee8b7b246df8f9039afb4144a1f6fd8d2ca17a180786b69acc140d282b71a49"
  }
 },
 "nbformat": 4,
 "nbformat_minor": 2
}