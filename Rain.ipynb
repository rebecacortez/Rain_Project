{
 "cells": [
  {
   "cell_type": "code",
   "execution_count": 29,
   "source": [
    "import pandas as pd\n",
    "import matplotlib.pyplot as plt\n",
    "import seaborn as sns\n",
    "import numpy as np"
   ],
   "outputs": [],
   "metadata": {}
  },
  {
   "cell_type": "code",
   "execution_count": 30,
   "source": [
    "rain = pd.read_csv('data/rain_data_aus.csv')"
   ],
   "outputs": [],
   "metadata": {}
  },
  {
   "cell_type": "markdown",
   "source": [
    "# Data cleaning"
   ],
   "metadata": {}
  },
  {
   "cell_type": "code",
   "execution_count": 31,
   "source": [
    "rain.head()"
   ],
   "outputs": [
    {
     "output_type": "execute_result",
     "data": {
      "text/html": [
       "<div>\n",
       "<style scoped>\n",
       "    .dataframe tbody tr th:only-of-type {\n",
       "        vertical-align: middle;\n",
       "    }\n",
       "\n",
       "    .dataframe tbody tr th {\n",
       "        vertical-align: top;\n",
       "    }\n",
       "\n",
       "    .dataframe thead th {\n",
       "        text-align: right;\n",
       "    }\n",
       "</style>\n",
       "<table border=\"1\" class=\"dataframe\">\n",
       "  <thead>\n",
       "    <tr style=\"text-align: right;\">\n",
       "      <th></th>\n",
       "      <th>date</th>\n",
       "      <th>location</th>\n",
       "      <th>mintemp</th>\n",
       "      <th>maxtemp</th>\n",
       "      <th>rainfall</th>\n",
       "      <th>evaporation</th>\n",
       "      <th>sunshine</th>\n",
       "      <th>humidity9am</th>\n",
       "      <th>humidity3pm</th>\n",
       "      <th>pressure9am</th>\n",
       "      <th>...</th>\n",
       "      <th>temp9am</th>\n",
       "      <th>temp3pm</th>\n",
       "      <th>raintoday</th>\n",
       "      <th>amountOfRain</th>\n",
       "      <th>raintomorrow</th>\n",
       "      <th>temp</th>\n",
       "      <th>humidity</th>\n",
       "      <th>precipitation3pm</th>\n",
       "      <th>precipitation9am</th>\n",
       "      <th>modelo_vigente</th>\n",
       "    </tr>\n",
       "  </thead>\n",
       "  <tbody>\n",
       "    <tr>\n",
       "      <th>0</th>\n",
       "      <td>2008-12-01</td>\n",
       "      <td>Albury</td>\n",
       "      <td>13.4</td>\n",
       "      <td>22.9</td>\n",
       "      <td>0.6</td>\n",
       "      <td>NaN</td>\n",
       "      <td>NaN</td>\n",
       "      <td>71.0</td>\n",
       "      <td>22.0</td>\n",
       "      <td>1007.7</td>\n",
       "      <td>...</td>\n",
       "      <td>16.9</td>\n",
       "      <td>21.8</td>\n",
       "      <td>No</td>\n",
       "      <td>0.0</td>\n",
       "      <td>No</td>\n",
       "      <td>29.48</td>\n",
       "      <td>28.400000</td>\n",
       "      <td>12</td>\n",
       "      <td>5.115360</td>\n",
       "      <td>0.089825</td>\n",
       "    </tr>\n",
       "    <tr>\n",
       "      <th>1</th>\n",
       "      <td>2008-12-02</td>\n",
       "      <td>Albury</td>\n",
       "      <td>7.4</td>\n",
       "      <td>25.1</td>\n",
       "      <td>0.0</td>\n",
       "      <td>NaN</td>\n",
       "      <td>NaN</td>\n",
       "      <td>44.0</td>\n",
       "      <td>25.0</td>\n",
       "      <td>1010.6</td>\n",
       "      <td>...</td>\n",
       "      <td>17.2</td>\n",
       "      <td>24.3</td>\n",
       "      <td>No</td>\n",
       "      <td>0.0</td>\n",
       "      <td>No</td>\n",
       "      <td>32.12</td>\n",
       "      <td>2.208569</td>\n",
       "      <td>10</td>\n",
       "      <td>21.497100</td>\n",
       "      <td>0.023477</td>\n",
       "    </tr>\n",
       "    <tr>\n",
       "      <th>2</th>\n",
       "      <td>2008-12-03</td>\n",
       "      <td>Albury</td>\n",
       "      <td>12.9</td>\n",
       "      <td>25.7</td>\n",
       "      <td>0.0</td>\n",
       "      <td>NaN</td>\n",
       "      <td>NaN</td>\n",
       "      <td>38.0</td>\n",
       "      <td>30.0</td>\n",
       "      <td>1007.6</td>\n",
       "      <td>...</td>\n",
       "      <td>21.0</td>\n",
       "      <td>23.2</td>\n",
       "      <td>No</td>\n",
       "      <td>0.0</td>\n",
       "      <td>No</td>\n",
       "      <td>32.84</td>\n",
       "      <td>38.000000</td>\n",
       "      <td>17</td>\n",
       "      <td>20.782859</td>\n",
       "      <td>0.027580</td>\n",
       "    </tr>\n",
       "    <tr>\n",
       "      <th>3</th>\n",
       "      <td>2008-12-04</td>\n",
       "      <td>Albury</td>\n",
       "      <td>9.2</td>\n",
       "      <td>28.0</td>\n",
       "      <td>0.0</td>\n",
       "      <td>NaN</td>\n",
       "      <td>NaN</td>\n",
       "      <td>45.0</td>\n",
       "      <td>16.0</td>\n",
       "      <td>1017.6</td>\n",
       "      <td>...</td>\n",
       "      <td>18.1</td>\n",
       "      <td>26.5</td>\n",
       "      <td>No</td>\n",
       "      <td>1.0</td>\n",
       "      <td>No</td>\n",
       "      <td>35.60</td>\n",
       "      <td>21.200000</td>\n",
       "      <td>8</td>\n",
       "      <td>12.028646</td>\n",
       "      <td>0.023962</td>\n",
       "    </tr>\n",
       "    <tr>\n",
       "      <th>4</th>\n",
       "      <td>2008-12-05</td>\n",
       "      <td>Albury</td>\n",
       "      <td>17.5</td>\n",
       "      <td>32.3</td>\n",
       "      <td>1.0</td>\n",
       "      <td>NaN</td>\n",
       "      <td>NaN</td>\n",
       "      <td>82.0</td>\n",
       "      <td>33.0</td>\n",
       "      <td>1010.8</td>\n",
       "      <td>...</td>\n",
       "      <td>17.8</td>\n",
       "      <td>29.7</td>\n",
       "      <td>No</td>\n",
       "      <td>0.2</td>\n",
       "      <td>No</td>\n",
       "      <td>40.76</td>\n",
       "      <td>41.600000</td>\n",
       "      <td>9</td>\n",
       "      <td>11.883546</td>\n",
       "      <td>0.220164</td>\n",
       "    </tr>\n",
       "  </tbody>\n",
       "</table>\n",
       "<p>5 rows × 23 columns</p>\n",
       "</div>"
      ],
      "text/plain": [
       "         date location  mintemp  maxtemp  rainfall  evaporation  sunshine  \\\n",
       "0  2008-12-01   Albury     13.4     22.9       0.6          NaN       NaN   \n",
       "1  2008-12-02   Albury      7.4     25.1       0.0          NaN       NaN   \n",
       "2  2008-12-03   Albury     12.9     25.7       0.0          NaN       NaN   \n",
       "3  2008-12-04   Albury      9.2     28.0       0.0          NaN       NaN   \n",
       "4  2008-12-05   Albury     17.5     32.3       1.0          NaN       NaN   \n",
       "\n",
       "   humidity9am  humidity3pm  pressure9am  ...  temp9am  temp3pm  raintoday  \\\n",
       "0         71.0         22.0       1007.7  ...     16.9     21.8         No   \n",
       "1         44.0         25.0       1010.6  ...     17.2     24.3         No   \n",
       "2         38.0         30.0       1007.6  ...     21.0     23.2         No   \n",
       "3         45.0         16.0       1017.6  ...     18.1     26.5         No   \n",
       "4         82.0         33.0       1010.8  ...     17.8     29.7         No   \n",
       "\n",
       "   amountOfRain  raintomorrow   temp   humidity precipitation3pm  \\\n",
       "0           0.0            No  29.48  28.400000               12   \n",
       "1           0.0            No  32.12   2.208569               10   \n",
       "2           0.0            No  32.84  38.000000               17   \n",
       "3           1.0            No  35.60  21.200000                8   \n",
       "4           0.2            No  40.76  41.600000                9   \n",
       "\n",
       "   precipitation9am  modelo_vigente  \n",
       "0          5.115360        0.089825  \n",
       "1         21.497100        0.023477  \n",
       "2         20.782859        0.027580  \n",
       "3         12.028646        0.023962  \n",
       "4         11.883546        0.220164  \n",
       "\n",
       "[5 rows x 23 columns]"
      ]
     },
     "metadata": {},
     "execution_count": 31
    }
   ],
   "metadata": {}
  },
  {
   "cell_type": "code",
   "execution_count": 32,
   "source": [
    "rain.isna().sum()"
   ],
   "outputs": [
    {
     "output_type": "execute_result",
     "data": {
      "text/plain": [
       "date                    0\n",
       "location                0\n",
       "mintemp               637\n",
       "maxtemp               322\n",
       "rainfall             1406\n",
       "evaporation         60843\n",
       "sunshine            67816\n",
       "humidity9am          1774\n",
       "humidity3pm          3610\n",
       "pressure9am         14014\n",
       "pressure3pm         13981\n",
       "cloud9am            53657\n",
       "cloud3pm            57094\n",
       "temp9am               904\n",
       "temp3pm              2726\n",
       "raintoday            1406\n",
       "amountOfRain            0\n",
       "raintomorrow            0\n",
       "temp                  322\n",
       "humidity             3610\n",
       "precipitation3pm        0\n",
       "precipitation9am        0\n",
       "modelo_vigente          0\n",
       "dtype: int64"
      ]
     },
     "metadata": {},
     "execution_count": 32
    }
   ],
   "metadata": {}
  },
  {
   "cell_type": "code",
   "execution_count": 33,
   "source": [
    "rain = rain.dropna()\n",
    "rain"
   ],
   "outputs": [
    {
     "output_type": "execute_result",
     "data": {
      "text/html": [
       "<div>\n",
       "<style scoped>\n",
       "    .dataframe tbody tr th:only-of-type {\n",
       "        vertical-align: middle;\n",
       "    }\n",
       "\n",
       "    .dataframe tbody tr th {\n",
       "        vertical-align: top;\n",
       "    }\n",
       "\n",
       "    .dataframe thead th {\n",
       "        text-align: right;\n",
       "    }\n",
       "</style>\n",
       "<table border=\"1\" class=\"dataframe\">\n",
       "  <thead>\n",
       "    <tr style=\"text-align: right;\">\n",
       "      <th></th>\n",
       "      <th>date</th>\n",
       "      <th>location</th>\n",
       "      <th>mintemp</th>\n",
       "      <th>maxtemp</th>\n",
       "      <th>rainfall</th>\n",
       "      <th>evaporation</th>\n",
       "      <th>sunshine</th>\n",
       "      <th>humidity9am</th>\n",
       "      <th>humidity3pm</th>\n",
       "      <th>pressure9am</th>\n",
       "      <th>...</th>\n",
       "      <th>temp9am</th>\n",
       "      <th>temp3pm</th>\n",
       "      <th>raintoday</th>\n",
       "      <th>amountOfRain</th>\n",
       "      <th>raintomorrow</th>\n",
       "      <th>temp</th>\n",
       "      <th>humidity</th>\n",
       "      <th>precipitation3pm</th>\n",
       "      <th>precipitation9am</th>\n",
       "      <th>modelo_vigente</th>\n",
       "    </tr>\n",
       "  </thead>\n",
       "  <tbody>\n",
       "    <tr>\n",
       "      <th>5939</th>\n",
       "      <td>2009-01-01</td>\n",
       "      <td>Cobar</td>\n",
       "      <td>17.9</td>\n",
       "      <td>35.2</td>\n",
       "      <td>0.0</td>\n",
       "      <td>12.0</td>\n",
       "      <td>12.3</td>\n",
       "      <td>20.0</td>\n",
       "      <td>13.0</td>\n",
       "      <td>1006.3</td>\n",
       "      <td>...</td>\n",
       "      <td>26.6</td>\n",
       "      <td>33.4</td>\n",
       "      <td>No</td>\n",
       "      <td>0.0</td>\n",
       "      <td>No</td>\n",
       "      <td>44.24</td>\n",
       "      <td>17.6</td>\n",
       "      <td>5</td>\n",
       "      <td>15.165784</td>\n",
       "      <td>0.011320</td>\n",
       "    </tr>\n",
       "    <tr>\n",
       "      <th>5940</th>\n",
       "      <td>2009-01-02</td>\n",
       "      <td>Cobar</td>\n",
       "      <td>18.4</td>\n",
       "      <td>28.9</td>\n",
       "      <td>0.0</td>\n",
       "      <td>14.8</td>\n",
       "      <td>13.0</td>\n",
       "      <td>30.0</td>\n",
       "      <td>8.0</td>\n",
       "      <td>1012.9</td>\n",
       "      <td>...</td>\n",
       "      <td>20.3</td>\n",
       "      <td>27.0</td>\n",
       "      <td>No</td>\n",
       "      <td>0.0</td>\n",
       "      <td>No</td>\n",
       "      <td>36.68</td>\n",
       "      <td>11.6</td>\n",
       "      <td>9</td>\n",
       "      <td>9.750834</td>\n",
       "      <td>0.001683</td>\n",
       "    </tr>\n",
       "    <tr>\n",
       "      <th>5942</th>\n",
       "      <td>2009-01-04</td>\n",
       "      <td>Cobar</td>\n",
       "      <td>19.4</td>\n",
       "      <td>37.6</td>\n",
       "      <td>0.0</td>\n",
       "      <td>10.8</td>\n",
       "      <td>10.6</td>\n",
       "      <td>42.0</td>\n",
       "      <td>22.0</td>\n",
       "      <td>1012.3</td>\n",
       "      <td>...</td>\n",
       "      <td>28.7</td>\n",
       "      <td>34.9</td>\n",
       "      <td>No</td>\n",
       "      <td>0.0</td>\n",
       "      <td>No</td>\n",
       "      <td>47.12</td>\n",
       "      <td>28.4</td>\n",
       "      <td>11</td>\n",
       "      <td>5.557986</td>\n",
       "      <td>0.061026</td>\n",
       "    </tr>\n",
       "    <tr>\n",
       "      <th>5943</th>\n",
       "      <td>2009-01-05</td>\n",
       "      <td>Cobar</td>\n",
       "      <td>21.9</td>\n",
       "      <td>38.4</td>\n",
       "      <td>0.0</td>\n",
       "      <td>11.4</td>\n",
       "      <td>12.2</td>\n",
       "      <td>37.0</td>\n",
       "      <td>22.0</td>\n",
       "      <td>1012.7</td>\n",
       "      <td>...</td>\n",
       "      <td>29.1</td>\n",
       "      <td>35.6</td>\n",
       "      <td>No</td>\n",
       "      <td>0.0</td>\n",
       "      <td>No</td>\n",
       "      <td>48.08</td>\n",
       "      <td>28.4</td>\n",
       "      <td>10</td>\n",
       "      <td>17.820001</td>\n",
       "      <td>0.010724</td>\n",
       "    </tr>\n",
       "    <tr>\n",
       "      <th>5944</th>\n",
       "      <td>2009-01-06</td>\n",
       "      <td>Cobar</td>\n",
       "      <td>24.2</td>\n",
       "      <td>41.0</td>\n",
       "      <td>0.0</td>\n",
       "      <td>11.2</td>\n",
       "      <td>8.4</td>\n",
       "      <td>19.0</td>\n",
       "      <td>15.0</td>\n",
       "      <td>1010.7</td>\n",
       "      <td>...</td>\n",
       "      <td>33.6</td>\n",
       "      <td>37.6</td>\n",
       "      <td>No</td>\n",
       "      <td>0.0</td>\n",
       "      <td>No</td>\n",
       "      <td>51.20</td>\n",
       "      <td>20.0</td>\n",
       "      <td>9</td>\n",
       "      <td>13.217116</td>\n",
       "      <td>0.103292</td>\n",
       "    </tr>\n",
       "    <tr>\n",
       "      <th>...</th>\n",
       "      <td>...</td>\n",
       "      <td>...</td>\n",
       "      <td>...</td>\n",
       "      <td>...</td>\n",
       "      <td>...</td>\n",
       "      <td>...</td>\n",
       "      <td>...</td>\n",
       "      <td>...</td>\n",
       "      <td>...</td>\n",
       "      <td>...</td>\n",
       "      <td>...</td>\n",
       "      <td>...</td>\n",
       "      <td>...</td>\n",
       "      <td>...</td>\n",
       "      <td>...</td>\n",
       "      <td>...</td>\n",
       "      <td>...</td>\n",
       "      <td>...</td>\n",
       "      <td>...</td>\n",
       "      <td>...</td>\n",
       "      <td>...</td>\n",
       "    </tr>\n",
       "    <tr>\n",
       "      <th>139108</th>\n",
       "      <td>2017-06-20</td>\n",
       "      <td>Darwin</td>\n",
       "      <td>19.3</td>\n",
       "      <td>33.4</td>\n",
       "      <td>0.0</td>\n",
       "      <td>6.0</td>\n",
       "      <td>11.0</td>\n",
       "      <td>63.0</td>\n",
       "      <td>32.0</td>\n",
       "      <td>1013.9</td>\n",
       "      <td>...</td>\n",
       "      <td>24.5</td>\n",
       "      <td>32.3</td>\n",
       "      <td>No</td>\n",
       "      <td>0.0</td>\n",
       "      <td>No</td>\n",
       "      <td>42.08</td>\n",
       "      <td>40.4</td>\n",
       "      <td>7</td>\n",
       "      <td>15.000004</td>\n",
       "      <td>0.008671</td>\n",
       "    </tr>\n",
       "    <tr>\n",
       "      <th>139109</th>\n",
       "      <td>2017-06-21</td>\n",
       "      <td>Darwin</td>\n",
       "      <td>21.2</td>\n",
       "      <td>32.6</td>\n",
       "      <td>0.0</td>\n",
       "      <td>7.6</td>\n",
       "      <td>8.6</td>\n",
       "      <td>56.0</td>\n",
       "      <td>28.0</td>\n",
       "      <td>1014.6</td>\n",
       "      <td>...</td>\n",
       "      <td>24.8</td>\n",
       "      <td>32.0</td>\n",
       "      <td>No</td>\n",
       "      <td>0.0</td>\n",
       "      <td>No</td>\n",
       "      <td>41.12</td>\n",
       "      <td>35.6</td>\n",
       "      <td>12</td>\n",
       "      <td>3.721395</td>\n",
       "      <td>0.052358</td>\n",
       "    </tr>\n",
       "    <tr>\n",
       "      <th>139110</th>\n",
       "      <td>2017-06-22</td>\n",
       "      <td>Darwin</td>\n",
       "      <td>20.7</td>\n",
       "      <td>32.8</td>\n",
       "      <td>0.0</td>\n",
       "      <td>5.6</td>\n",
       "      <td>11.0</td>\n",
       "      <td>46.0</td>\n",
       "      <td>23.0</td>\n",
       "      <td>1015.3</td>\n",
       "      <td>...</td>\n",
       "      <td>24.8</td>\n",
       "      <td>32.1</td>\n",
       "      <td>No</td>\n",
       "      <td>0.0</td>\n",
       "      <td>No</td>\n",
       "      <td>41.36</td>\n",
       "      <td>29.6</td>\n",
       "      <td>10</td>\n",
       "      <td>18.462662</td>\n",
       "      <td>0.005346</td>\n",
       "    </tr>\n",
       "    <tr>\n",
       "      <th>139111</th>\n",
       "      <td>2017-06-23</td>\n",
       "      <td>Darwin</td>\n",
       "      <td>19.5</td>\n",
       "      <td>31.8</td>\n",
       "      <td>0.0</td>\n",
       "      <td>6.2</td>\n",
       "      <td>10.6</td>\n",
       "      <td>62.0</td>\n",
       "      <td>58.0</td>\n",
       "      <td>1014.9</td>\n",
       "      <td>...</td>\n",
       "      <td>24.8</td>\n",
       "      <td>29.2</td>\n",
       "      <td>No</td>\n",
       "      <td>0.0</td>\n",
       "      <td>No</td>\n",
       "      <td>40.16</td>\n",
       "      <td>71.6</td>\n",
       "      <td>6</td>\n",
       "      <td>16.343690</td>\n",
       "      <td>0.025044</td>\n",
       "    </tr>\n",
       "    <tr>\n",
       "      <th>139112</th>\n",
       "      <td>2017-06-24</td>\n",
       "      <td>Darwin</td>\n",
       "      <td>20.2</td>\n",
       "      <td>31.7</td>\n",
       "      <td>0.0</td>\n",
       "      <td>5.6</td>\n",
       "      <td>10.7</td>\n",
       "      <td>73.0</td>\n",
       "      <td>32.0</td>\n",
       "      <td>1013.9</td>\n",
       "      <td>...</td>\n",
       "      <td>25.4</td>\n",
       "      <td>31.0</td>\n",
       "      <td>No</td>\n",
       "      <td>0.0</td>\n",
       "      <td>No</td>\n",
       "      <td>40.04</td>\n",
       "      <td>40.4</td>\n",
       "      <td>12</td>\n",
       "      <td>9.187054</td>\n",
       "      <td>0.043525</td>\n",
       "    </tr>\n",
       "  </tbody>\n",
       "</table>\n",
       "<p>61918 rows × 23 columns</p>\n",
       "</div>"
      ],
      "text/plain": [
       "              date location  mintemp  maxtemp  rainfall  evaporation  \\\n",
       "5939    2009-01-01    Cobar     17.9     35.2       0.0         12.0   \n",
       "5940    2009-01-02    Cobar     18.4     28.9       0.0         14.8   \n",
       "5942    2009-01-04    Cobar     19.4     37.6       0.0         10.8   \n",
       "5943    2009-01-05    Cobar     21.9     38.4       0.0         11.4   \n",
       "5944    2009-01-06    Cobar     24.2     41.0       0.0         11.2   \n",
       "...            ...      ...      ...      ...       ...          ...   \n",
       "139108  2017-06-20   Darwin     19.3     33.4       0.0          6.0   \n",
       "139109  2017-06-21   Darwin     21.2     32.6       0.0          7.6   \n",
       "139110  2017-06-22   Darwin     20.7     32.8       0.0          5.6   \n",
       "139111  2017-06-23   Darwin     19.5     31.8       0.0          6.2   \n",
       "139112  2017-06-24   Darwin     20.2     31.7       0.0          5.6   \n",
       "\n",
       "        sunshine  humidity9am  humidity3pm  pressure9am  ...  temp9am  \\\n",
       "5939        12.3         20.0         13.0       1006.3  ...     26.6   \n",
       "5940        13.0         30.0          8.0       1012.9  ...     20.3   \n",
       "5942        10.6         42.0         22.0       1012.3  ...     28.7   \n",
       "5943        12.2         37.0         22.0       1012.7  ...     29.1   \n",
       "5944         8.4         19.0         15.0       1010.7  ...     33.6   \n",
       "...          ...          ...          ...          ...  ...      ...   \n",
       "139108      11.0         63.0         32.0       1013.9  ...     24.5   \n",
       "139109       8.6         56.0         28.0       1014.6  ...     24.8   \n",
       "139110      11.0         46.0         23.0       1015.3  ...     24.8   \n",
       "139111      10.6         62.0         58.0       1014.9  ...     24.8   \n",
       "139112      10.7         73.0         32.0       1013.9  ...     25.4   \n",
       "\n",
       "        temp3pm  raintoday  amountOfRain  raintomorrow   temp  humidity  \\\n",
       "5939       33.4         No           0.0            No  44.24      17.6   \n",
       "5940       27.0         No           0.0            No  36.68      11.6   \n",
       "5942       34.9         No           0.0            No  47.12      28.4   \n",
       "5943       35.6         No           0.0            No  48.08      28.4   \n",
       "5944       37.6         No           0.0            No  51.20      20.0   \n",
       "...         ...        ...           ...           ...    ...       ...   \n",
       "139108     32.3         No           0.0            No  42.08      40.4   \n",
       "139109     32.0         No           0.0            No  41.12      35.6   \n",
       "139110     32.1         No           0.0            No  41.36      29.6   \n",
       "139111     29.2         No           0.0            No  40.16      71.6   \n",
       "139112     31.0         No           0.0            No  40.04      40.4   \n",
       "\n",
       "       precipitation3pm  precipitation9am  modelo_vigente  \n",
       "5939                  5         15.165784        0.011320  \n",
       "5940                  9          9.750834        0.001683  \n",
       "5942                 11          5.557986        0.061026  \n",
       "5943                 10         17.820001        0.010724  \n",
       "5944                  9         13.217116        0.103292  \n",
       "...                 ...               ...             ...  \n",
       "139108                7         15.000004        0.008671  \n",
       "139109               12          3.721395        0.052358  \n",
       "139110               10         18.462662        0.005346  \n",
       "139111                6         16.343690        0.025044  \n",
       "139112               12          9.187054        0.043525  \n",
       "\n",
       "[61918 rows x 23 columns]"
      ]
     },
     "metadata": {},
     "execution_count": 33
    }
   ],
   "metadata": {}
  },
  {
   "cell_type": "code",
   "execution_count": 34,
   "source": [
    "rain['raintomorrow']=rain['raintomorrow'].map({'No':'0','Yes':'1'})\n",
    "rain['raintomorrow']=rain['raintomorrow'].astype(int)\n",
    "\n",
    "rain['raintoday']=rain['raintoday'].map({'No':'0','Yes':'1'})\n",
    "rain['raintoday']=rain['raintoday'].astype(int)"
   ],
   "outputs": [],
   "metadata": {}
  },
  {
   "cell_type": "code",
   "execution_count": 35,
   "source": [
    "rain[['raintomorrow','raintoday']].head()"
   ],
   "outputs": [
    {
     "output_type": "execute_result",
     "data": {
      "text/html": [
       "<div>\n",
       "<style scoped>\n",
       "    .dataframe tbody tr th:only-of-type {\n",
       "        vertical-align: middle;\n",
       "    }\n",
       "\n",
       "    .dataframe tbody tr th {\n",
       "        vertical-align: top;\n",
       "    }\n",
       "\n",
       "    .dataframe thead th {\n",
       "        text-align: right;\n",
       "    }\n",
       "</style>\n",
       "<table border=\"1\" class=\"dataframe\">\n",
       "  <thead>\n",
       "    <tr style=\"text-align: right;\">\n",
       "      <th></th>\n",
       "      <th>raintomorrow</th>\n",
       "      <th>raintoday</th>\n",
       "    </tr>\n",
       "  </thead>\n",
       "  <tbody>\n",
       "    <tr>\n",
       "      <th>5939</th>\n",
       "      <td>0</td>\n",
       "      <td>0</td>\n",
       "    </tr>\n",
       "    <tr>\n",
       "      <th>5940</th>\n",
       "      <td>0</td>\n",
       "      <td>0</td>\n",
       "    </tr>\n",
       "    <tr>\n",
       "      <th>5942</th>\n",
       "      <td>0</td>\n",
       "      <td>0</td>\n",
       "    </tr>\n",
       "    <tr>\n",
       "      <th>5943</th>\n",
       "      <td>0</td>\n",
       "      <td>0</td>\n",
       "    </tr>\n",
       "    <tr>\n",
       "      <th>5944</th>\n",
       "      <td>0</td>\n",
       "      <td>0</td>\n",
       "    </tr>\n",
       "  </tbody>\n",
       "</table>\n",
       "</div>"
      ],
      "text/plain": [
       "      raintomorrow  raintoday\n",
       "5939             0          0\n",
       "5940             0          0\n",
       "5942             0          0\n",
       "5943             0          0\n",
       "5944             0          0"
      ]
     },
     "metadata": {},
     "execution_count": 35
    }
   ],
   "metadata": {}
  },
  {
   "cell_type": "markdown",
   "source": [
    "# Exploratory data analysis"
   ],
   "metadata": {}
  },
  {
   "cell_type": "code",
   "execution_count": 36,
   "source": [
    "rain.corr()['raintomorrow']"
   ],
   "outputs": [
    {
     "output_type": "execute_result",
     "data": {
      "text/plain": [
       "mintemp             0.088964\n",
       "maxtemp            -0.144498\n",
       "rainfall            0.253773\n",
       "evaporation        -0.127257\n",
       "sunshine           -0.449261\n",
       "humidity9am         0.265360\n",
       "humidity3pm         0.447742\n",
       "pressure9am        -0.255934\n",
       "pressure3pm        -0.231428\n",
       "cloud9am            0.319410\n",
       "cloud3pm            0.389891\n",
       "temp9am            -0.016180\n",
       "temp3pm            -0.181295\n",
       "raintoday           0.308621\n",
       "amountOfRain        0.492611\n",
       "raintomorrow        1.000000\n",
       "temp               -0.112636\n",
       "humidity            0.406002\n",
       "precipitation3pm    0.006578\n",
       "precipitation9am   -0.013366\n",
       "modelo_vigente      0.863107\n",
       "Name: raintomorrow, dtype: float64"
      ]
     },
     "metadata": {},
     "execution_count": 36
    }
   ],
   "metadata": {}
  },
  {
   "cell_type": "code",
   "execution_count": 37,
   "source": [
    "# amountOfRain -> maior correlação"
   ],
   "outputs": [],
   "metadata": {}
  },
  {
   "cell_type": "markdown",
   "source": [
    "# Predictions"
   ],
   "metadata": {}
  },
  {
   "cell_type": "code",
   "execution_count": 38,
   "source": [
    "from sklearn.model_selection import train_test_split\n",
    "from sklearn.tree import DecisionTreeClassifier"
   ],
   "outputs": [],
   "metadata": {}
  },
  {
   "cell_type": "code",
   "execution_count": 39,
   "source": [
    "#Tentativa 1\n",
    "#X=rain[['amountOfRain']]\n",
    "#y=rain['raintomorrow']"
   ],
   "outputs": [],
   "metadata": {}
  },
  {
   "cell_type": "code",
   "execution_count": 40,
   "source": [
    "#Tentativa  2\n",
    "#X=rain[['sunshine']]\n",
    "#y=rain['raintomorrow']"
   ],
   "outputs": [],
   "metadata": {}
  },
  {
   "cell_type": "code",
   "execution_count": 41,
   "source": [
    "rain.columns"
   ],
   "outputs": [
    {
     "output_type": "execute_result",
     "data": {
      "text/plain": [
       "Index(['date', 'location', 'mintemp', 'maxtemp', 'rainfall', 'evaporation',\n",
       "       'sunshine', 'humidity9am', 'humidity3pm', 'pressure9am', 'pressure3pm',\n",
       "       'cloud9am', 'cloud3pm', 'temp9am', 'temp3pm', 'raintoday',\n",
       "       'amountOfRain', 'raintomorrow', 'temp', 'humidity', 'precipitation3pm',\n",
       "       'precipitation9am', 'modelo_vigente'],\n",
       "      dtype='object')"
      ]
     },
     "metadata": {},
     "execution_count": 41
    }
   ],
   "metadata": {}
  },
  {
   "cell_type": "code",
   "execution_count": 42,
   "source": [
    "#Tentativa  3\n",
    "X=rain[[ 'mintemp', 'maxtemp', 'rainfall','evaporation','sunshine',\n",
    "        'humidity9am', 'humidity3pm','pressure9am', 'pressure3pm',\n",
    "        'cloud9am', 'cloud3pm', 'temp9am','temp3pm', 'raintoday',\n",
    "        'temp','humidity', 'precipitation3pm','precipitation9am']]\n",
    "y=rain['raintomorrow']"
   ],
   "outputs": [],
   "metadata": {}
  },
  {
   "cell_type": "code",
   "execution_count": 43,
   "source": [
    "X_train, X_test, y_train, y_test = train_test_split(X, y, test_size=0.2)"
   ],
   "outputs": [],
   "metadata": {}
  },
  {
   "cell_type": "code",
   "execution_count": 44,
   "source": [
    "tree = DecisionTreeClassifier(max_depth=9)\n",
    "tree"
   ],
   "outputs": [
    {
     "output_type": "execute_result",
     "data": {
      "text/plain": [
       "DecisionTreeClassifier(max_depth=9)"
      ]
     },
     "metadata": {},
     "execution_count": 44
    }
   ],
   "metadata": {}
  },
  {
   "cell_type": "code",
   "execution_count": 45,
   "source": [
    "tree.fit(X_train,y_train)"
   ],
   "outputs": [
    {
     "output_type": "execute_result",
     "data": {
      "text/plain": [
       "DecisionTreeClassifier(max_depth=9)"
      ]
     },
     "metadata": {},
     "execution_count": 45
    }
   ],
   "metadata": {}
  },
  {
   "cell_type": "code",
   "execution_count": 46,
   "source": [
    "tree.score(X_test,y_test)"
   ],
   "outputs": [
    {
     "output_type": "execute_result",
     "data": {
      "text/plain": [
       "0.8300226098191215"
      ]
     },
     "metadata": {},
     "execution_count": 46
    }
   ],
   "metadata": {}
  },
  {
   "cell_type": "code",
   "execution_count": 47,
   "source": [
    "from sklearn.metrics import plot_confusion_matrix, confusion_matrix\n",
    "cmap1 = sns.diverging_palette(260,-10,s=50, l=75, n=5, as_cmap=True)\n",
    "sns.heatmap(confusion_matrix(y_test, tree.predict(X_test)),cmap=cmap1, annot=True, fmt='g')"
   ],
   "outputs": [
    {
     "output_type": "execute_result",
     "data": {
      "text/plain": [
       "<AxesSubplot:>"
      ]
     },
     "metadata": {},
     "execution_count": 47
    },
    {
     "output_type": "display_data",
     "data": {
      "image/png": "[encoded data removed]",
      "text/plain": [
       "<Figure size 432x288 with 2 Axes>"
      ]
     },
     "metadata": {
      "needs_background": "light"
     }
    }
   ],
   "metadata": {}
  },
  {
   "cell_type": "code",
   "execution_count": 48,
   "source": [
    "from sklearn.metrics import plot_confusion_matrix, confusion_matrix\n",
    "cmap1 = sns.diverging_palette(260,-10,s=50, l=75, n=5, as_cmap=True)\n",
    "sns.heatmap(confusion_matrix(y_train, tree.predict(X_train)),cmap=cmap1, annot=True, fmt='g')"
   ],
   "outputs": [
    {
     "output_type": "execute_result",
     "data": {
      "text/plain": [
       "<AxesSubplot:>"
      ]
     },
     "metadata": {},
     "execution_count": 48
    },
    {
     "output_type": "display_data",
     "data": {
      "image/png": "[encoded data removed]",
      "text/plain": [
       "<Figure size 432x288 with 2 Axes>"
      ]
     },
     "metadata": {
      "needs_background": "light"
     }
    }
   ],
   "metadata": {}
  },
  {
   "cell_type": "code",
   "execution_count": 49,
   "source": [
    "from sklearn.tree import plot_tree\n",
    "import matplotlib.pyplot as plt\n",
    "#plt.figure(figsize=(50,35))\n",
    "#plot_tree(tree,feature_names=X_train.columns,class_names=[\"não_choveu\",\"choveu\"],proportion=True,filled=True)\n",
    "#plt.show()"
   ],
   "outputs": [],
   "metadata": {}
  },
  {
   "cell_type": "code",
   "execution_count": 50,
   "source": [
    "from sklearn.metrics import roc_auc_score\n",
    "from tqdm.auto import tqdm\n",
    "complexity = []\n",
    "error_test = []\n",
    "error_train = []\n",
    "for K in tqdm(range(1, 20)):\n",
    "    complexity.append(K)\n",
    "    knn = DecisionTreeClassifier(max_depth=K)\n",
    "    knn.fit(X_train, y_train)\n",
    "    error_train.append(1 - roc_auc_score(y_train, knn.predict(X_train)))\n",
    "    error_test.append(1 - roc_auc_score(y_test, knn.predict(X_test)))\n",
    "plt.plot(complexity, error_train, '-', label='Training Error')\n",
    "plt.plot(complexity, error_test, '-', label='Test Error')\n",
    "plt.hlines(min(error_test), 0, 20, colors='red', linestyles='dashed')\n",
    "plt.xlabel('Complexity')\n",
    "plt.ylabel('Error')\n",
    "plt.legend()\n",
    "error_test.index(min(error_test))+1"
   ],
   "outputs": [
    {
     "output_type": "stream",
     "name": "stderr",
     "text": [
      "100%|██████████| 19/19 [00:09<00:00,  2.09it/s]\n"
     ]
    },
    {
     "output_type": "execute_result",
     "data": {
      "text/plain": [
       "8"
      ]
     },
     "metadata": {},
     "execution_count": 50
    },
    {
     "output_type": "display_data",
     "data": {
      "image/png": "[encoded data removed]",
      "text/plain": [
       "<Figure size 432x288 with 1 Axes>"
      ]
     },
     "metadata": {
      "needs_background": "light"
     }
    }
   ],
   "metadata": {}
  },
  {
   "cell_type": "code",
   "execution_count": 51,
   "source": [
    "pd.DataFrame(tree.feature_importances_,X_train.columns)"
   ],
   "outputs": [
    {
     "output_type": "execute_result",
     "data": {
      "text/html": [
       "<div>\n",
       "<style scoped>\n",
       "    .dataframe tbody tr th:only-of-type {\n",
       "        vertical-align: middle;\n",
       "    }\n",
       "\n",
       "    .dataframe tbody tr th {\n",
       "        vertical-align: top;\n",
       "    }\n",
       "\n",
       "    .dataframe thead th {\n",
       "        text-align: right;\n",
       "    }\n",
       "</style>\n",
       "<table border=\"1\" class=\"dataframe\">\n",
       "  <thead>\n",
       "    <tr style=\"text-align: right;\">\n",
       "      <th></th>\n",
       "      <th>0</th>\n",
       "    </tr>\n",
       "  </thead>\n",
       "  <tbody>\n",
       "    <tr>\n",
       "      <th>mintemp</th>\n",
       "      <td>0.013840</td>\n",
       "    </tr>\n",
       "    <tr>\n",
       "      <th>maxtemp</th>\n",
       "      <td>0.007242</td>\n",
       "    </tr>\n",
       "    <tr>\n",
       "      <th>rainfall</th>\n",
       "      <td>0.033722</td>\n",
       "    </tr>\n",
       "    <tr>\n",
       "      <th>evaporation</th>\n",
       "      <td>0.014176</td>\n",
       "    </tr>\n",
       "    <tr>\n",
       "      <th>sunshine</th>\n",
       "      <td>0.161064</td>\n",
       "    </tr>\n",
       "    <tr>\n",
       "      <th>humidity9am</th>\n",
       "      <td>0.017001</td>\n",
       "    </tr>\n",
       "    <tr>\n",
       "      <th>humidity3pm</th>\n",
       "      <td>0.540440</td>\n",
       "    </tr>\n",
       "    <tr>\n",
       "      <th>pressure9am</th>\n",
       "      <td>0.011305</td>\n",
       "    </tr>\n",
       "    <tr>\n",
       "      <th>pressure3pm</th>\n",
       "      <td>0.130605</td>\n",
       "    </tr>\n",
       "    <tr>\n",
       "      <th>cloud9am</th>\n",
       "      <td>0.002846</td>\n",
       "    </tr>\n",
       "    <tr>\n",
       "      <th>cloud3pm</th>\n",
       "      <td>0.012328</td>\n",
       "    </tr>\n",
       "    <tr>\n",
       "      <th>temp9am</th>\n",
       "      <td>0.006399</td>\n",
       "    </tr>\n",
       "    <tr>\n",
       "      <th>temp3pm</th>\n",
       "      <td>0.011518</td>\n",
       "    </tr>\n",
       "    <tr>\n",
       "      <th>raintoday</th>\n",
       "      <td>0.000223</td>\n",
       "    </tr>\n",
       "    <tr>\n",
       "      <th>temp</th>\n",
       "      <td>0.008768</td>\n",
       "    </tr>\n",
       "    <tr>\n",
       "      <th>humidity</th>\n",
       "      <td>0.012835</td>\n",
       "    </tr>\n",
       "    <tr>\n",
       "      <th>precipitation3pm</th>\n",
       "      <td>0.004463</td>\n",
       "    </tr>\n",
       "    <tr>\n",
       "      <th>precipitation9am</th>\n",
       "      <td>0.011225</td>\n",
       "    </tr>\n",
       "  </tbody>\n",
       "</table>\n",
       "</div>"
      ],
      "text/plain": [
       "                         0\n",
       "mintemp           0.013840\n",
       "maxtemp           0.007242\n",
       "rainfall          0.033722\n",
       "evaporation       0.014176\n",
       "sunshine          0.161064\n",
       "humidity9am       0.017001\n",
       "humidity3pm       0.540440\n",
       "pressure9am       0.011305\n",
       "pressure3pm       0.130605\n",
       "cloud9am          0.002846\n",
       "cloud3pm          0.012328\n",
       "temp9am           0.006399\n",
       "temp3pm           0.011518\n",
       "raintoday         0.000223\n",
       "temp              0.008768\n",
       "humidity          0.012835\n",
       "precipitation3pm  0.004463\n",
       "precipitation9am  0.011225"
      ]
     },
     "metadata": {},
     "execution_count": 51
    }
   ],
   "metadata": {}
  },
  {
   "cell_type": "code",
   "execution_count": 52,
   "source": [
    "from lightgbm import LGBMClassifier"
   ],
   "outputs": [],
   "metadata": {}
  },
  {
   "cell_type": "code",
   "execution_count": 53,
   "source": [
    "lgb = LGBMClassifier(max_depth=3, n_estimators=200, colsample_bytree=0.33, n_jobs=-1)\n",
    "lgb.fit(X_train,y_train)"
   ],
   "outputs": [],
   "metadata": {}
  },
  {
   "cell_type": "code",
   "execution_count": null,
   "source": [
    "#from lightgbm import plot_importance\n",
    "#plot_importance(lgb, importance_type='gain')"
   ],
   "outputs": [
    {
     "output_type": "error",
     "ename": "Error",
     "evalue": "Kernel is dead",
     "traceback": [
      "Error: Kernel is dead",
      "at g._sendKernelShellControl (/Users/rebeca/.vscode/extensions/ms-toolsai.jupyter-2021.8.2041215044/out/client/extension.js:52:1006195)",
      "at g.sendShellMessage (/Users/rebeca/.vscode/extensions/ms-toolsai.jupyter-2021.8.2041215044/out/client/extension.js:52:1005964)",
      "at g.requestExecute (/Users/rebeca/.vscode/extensions/ms-toolsai.jupyter-2021.8.2041215044/out/client/extension.js:52:1008506)",
      "at d.requestExecute (/Users/rebeca/.vscode/extensions/ms-toolsai.jupyter-2021.8.2041215044/out/client/extension.js:37:325680)",
      "at w.requestExecute (/Users/rebeca/.vscode/extensions/ms-toolsai.jupyter-2021.8.2041215044/out/client/extension.js:32:18027)",
      "at w.executeCodeCell (/Users/rebeca/.vscode/extensions/ms-toolsai.jupyter-2021.8.2041215044/out/client/extension.js:52:301076)",
      "at w.execute (/Users/rebeca/.vscode/extensions/ms-toolsai.jupyter-2021.8.2041215044/out/client/extension.js:52:300703)",
      "at w.start (/Users/rebeca/.vscode/extensions/ms-toolsai.jupyter-2021.8.2041215044/out/client/extension.js:52:296367)",
      "at processTicksAndRejections (internal/process/task_queues.js:93:5)",
      "at async t.CellExecutionQueue.executeQueuedCells (/Users/rebeca/.vscode/extensions/ms-toolsai.jupyter-2021.8.2041215044/out/client/extension.js:52:311160)",
      "at async t.CellExecutionQueue.start (/Users/rebeca/.vscode/extensions/ms-toolsai.jupyter-2021.8.2041215044/out/client/extension.js:52:310700)"
     ]
    }
   ],
   "metadata": {}
  },
  {
   "cell_type": "code",
   "execution_count": null,
   "source": [
    "print('temp')"
   ],
   "outputs": [
    {
     "output_type": "stream",
     "name": "stdout",
     "text": [
      "temp\n"
     ]
    }
   ],
   "metadata": {}
  },
  {
   "cell_type": "markdown",
   "source": [],
   "metadata": {}
  }
 ],
 "metadata": {
  "orig_nbformat": 4,
  "language_info": {
   "name": "python",
   "version": "3.9.6",
   "mimetype": "text/x-python",
   "codemirror_mode": {
    "name": "ipython",
    "version": 3
   },
   "pygments_lexer": "ipython3",
   "nbconvert_exporter": "python",
   "file_extension": ".py"
  },
  "kernelspec": {
   "name": "python3",
   "display_name": "Python 3.9.6 64-bit"
  },
  "interpreter": {
   "hash": "aee8b7b246df8f9039afb4144a1f6fd8d2ca17a180786b69acc140d282b71a49"
  }
 },
 "nbformat": 4,
 "nbformat_minor": 2
}